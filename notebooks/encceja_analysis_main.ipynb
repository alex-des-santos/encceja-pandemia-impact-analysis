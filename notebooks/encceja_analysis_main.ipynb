{
 "cells": [
  {
   "cell_type": "markdown",
   "id": "b1bd4459",
   "metadata": {},
   "source": [
    "# ENCCEJA Pandemic Impact Analysis: 2019 vs 2023\n",
    "\n",
    "## 🎯 Analysis Objectives\n",
    "1. **Population Separation**: Analyze Regular and Incarcerated (PPL) populations independently\n",
    "2. **Official Criteria**: Apply INEP's IN_APROVADO_* approval variables\n",
    "3. **Document Limitations**: LGPD, scope, structural changes\n",
    "4. **Robust Analysis**: Based on complete datasets when possible"
   ]
  },
  {
   "cell_type": "markdown",
   "id": "8694faa5",
   "metadata": {},
   "source": [
    "## 📚 1. Library Imports and Configuration"
   ]
  },
  {
   "cell_type": "code",
   "execution_count": null,
   "id": "46ab0115",
   "metadata": {},
   "outputs": [
    {
     "name": "stdout",
     "output_type": "stream",
     "text": [
      "✅ Bibliotecas importadas e caminhos configurados\n",
      "📁 Caminhos dos dados:\n",
      "   ✅ regular_2019: MICRODADOS_ENCCEJA_NACIONAL_REGULAR_2019.csv\n",
      "   ✅ ppl_2019: MICRODADOS_ENCCEJA_NACIONAL_PPL_2019.csv\n",
      "   ✅ regular_2023: MICRODADOS_ENCCEJA_2023_REG_NAC.csv\n",
      "   ✅ ppl_2023: MICRODADOS_ENCCEJA_2023_PPL_NAC.csv\n"
     ]
    }
   ],
   "source": [
    "# Essential imports\n",
    "import pandas as pd\n",
    "import numpy as np\n",
    "import matplotlib.pyplot as plt\n",
    "import seaborn as sns\n",
    "import plotly.express as px\n",
    "import plotly.graph_objects as go\n",
    "from plotly.subplots import make_subplots\n",
    "import warnings\n",
    "from pathlib import Path\n",
    "import logging\n",
    "\n",
    "# Configuration\n",
    "warnings.filterwarnings('ignore')\n",
    "plt.style.use('default')\n",
    "sns.set_palette(\"husl\")\n",
    "\n",
    "# Configure logging for tracking issues\n",
    "logging.basicConfig(level=logging.INFO, format='%(levelname)s: %(message)s')\n",
    "logger = logging.getLogger(__name__)\n",
    "\n",
    "# Define data paths\n",
    "BASE_PATH = Path(\"data/raw\")\n",
    "DATA_PATHS = {\n",
    "    'regular_2019': BASE_PATH / \"microdados_encceja_2019/DADOS/MICRODADOS_ENCCEJA_NACIONAL_REGULAR_2019.csv\",\n",
    "    'ppl_2019': BASE_PATH / \"microdados_encceja_2019/DADOS/MICRODADOS_ENCCEJA_NACIONAL_PPL_2019.csv\",\n",
    "    'regular_2023': BASE_PATH / \"microdados_encceja_2023/DADOS/MICRODADOS_ENCCEJA_2023_REG_NAC.csv\",\n",
    "    'ppl_2023': BASE_PATH / \"microdados_encceja_2023/DADOS/MICRODADOS_ENCCEJA_2023_PPL_NAC.csv\"\n",
    "}\n",
    "\n",
    "print(\"✅ Libraries imported and paths configured\")\n",
    "print(\"📁 Data paths:\")\n",
    "for key, path in DATA_PATHS.items():\n",
    "    exists = \"✅\" if path.exists() else \"❌\"\n",
    "    print(f\"   {exists} {key}: {path.name}\")"
   ]
  },
  {
   "cell_type": "markdown",
   "id": "cb409863",
   "metadata": {},
   "source": [
    "## 🔧 2. Classe para Carregamento Metodologicamente Correto"
   ]
  },
  {
   "cell_type": "code",
   "execution_count": 2,
   "id": "1dd977c6",
   "metadata": {},
   "outputs": [
    {
     "name": "stdout",
     "output_type": "stream",
     "text": [
      "✅ Classe EnccejaDataLoader criada\n"
     ]
    }
   ],
   "source": [
    "class EnccejaDataLoader:\n",
    "    \"\"\"Carregador de dados ENCCEJA com correções metodológicas\"\"\"\n",
    "    \n",
    "    def __init__(self):\n",
    "        self.data = {}\n",
    "        self.metadata = {}\n",
    "        self.encoding_map = {\n",
    "            2019: {'encoding': 'latin-1', 'sep': ','},\n",
    "            2023: {'encoding': 'latin-1', 'sep': ';'}\n",
    "        }\n",
    "    \n",
    "    def load_dataset(self, filepath, dataset_key, sample_size=None):\n",
    "        \"\"\"Carrega um dataset específico com tratamento de erros\"\"\"\n",
    "        try:\n",
    "            # Detectar ano e configurações\n",
    "            year = 2019 if '2019' in str(filepath) else 2023\n",
    "            config = self.encoding_map[year]\n",
    "            \n",
    "            logger.info(f\"Carregando {dataset_key} ({year})...\")\n",
    "            \n",
    "            # Carregar dados\n",
    "            if sample_size:\n",
    "                df = pd.read_csv(filepath, encoding=config['encoding'], \n",
    "                               sep=config['sep'], nrows=sample_size, low_memory=False)\n",
    "                logger.warning(f\"Usando amostra de {sample_size} registros para {dataset_key}\")\n",
    "            else:\n",
    "                df = pd.read_csv(filepath, encoding=config['encoding'], \n",
    "                               sep=config['sep'], low_memory=False)\n",
    "            \n",
    "            # Metadados\n",
    "            metadata = {\n",
    "                'year': year,\n",
    "                'population': 'regular' if 'REGULAR' in str(filepath) or 'REG_NAC' in str(filepath) else 'ppl',\n",
    "                'total_records': len(df),\n",
    "                'total_columns': len(df.columns),\n",
    "                'encoding': config['encoding'],\n",
    "                'separator': config['sep'],\n",
    "                'filepath': str(filepath),\n",
    "                'sample_used': sample_size is not None\n",
    "            }\n",
    "            \n",
    "            # Armazenar\n",
    "            self.data[dataset_key] = df\n",
    "            self.metadata[dataset_key] = metadata\n",
    "            \n",
    "            logger.info(f\"✅ {dataset_key}: {len(df):,} registros, {len(df.columns)} colunas\")\n",
    "            return df\n",
    "            \n",
    "        except Exception as e:\n",
    "            logger.error(f\"❌ Erro ao carregar {dataset_key}: {e}\")\n",
    "            return None\n",
    "    \n",
    "    def load_all_datasets(self, use_samples=False, sample_size=10000):\n",
    "        \"\"\"Carrega todos os datasets com opção de usar amostras\"\"\"\n",
    "        print(\"🔄 CARREGANDO DATASETS...\")\n",
    "        print(\"=\"*60)\n",
    "        \n",
    "        if use_samples:\n",
    "            print(f\"⚠️  USANDO AMOSTRAS DE {sample_size:,} REGISTROS\")\n",
    "            print(\"   (Para análise rápida - resultados não representativos)\")\n",
    "        \n",
    "        success_count = 0\n",
    "        for key, filepath in DATA_PATHS.items():\n",
    "            if filepath.exists():\n",
    "                df = self.load_dataset(filepath, key, \n",
    "                                     sample_size if use_samples else None)\n",
    "                if df is not None:\n",
    "                    success_count += 1\n",
    "            else:\n",
    "                logger.error(f\"❌ Arquivo não encontrado: {filepath}\")\n",
    "        \n",
    "        print(f\"\\n📊 RESUMO: {success_count}/{len(DATA_PATHS)} datasets carregados\")\n",
    "        return success_count == len(DATA_PATHS)\n",
    "    \n",
    "    def validate_data_structure(self):\n",
    "        \"\"\"Valida estrutura dos dados e identifica inconsistências\"\"\"\n",
    "        print(\"\\n🔍 VALIDAÇÃO DA ESTRUTURA DOS DADOS\")\n",
    "        print(\"=\"*60)\n",
    "        \n",
    "        validation_results = {}\n",
    "        \n",
    "        for key, df in self.data.items():\n",
    "            meta = self.metadata[key]\n",
    "            \n",
    "            # Verificações básicas\n",
    "            issues = []\n",
    "            \n",
    "            # Verificar se é apenas Ensino Fundamental (Brasil)\n",
    "            if 'TP_CERTIFICACAO' in df.columns:\n",
    "                cert_values = df['TP_CERTIFICACAO'].unique()\n",
    "                if len(cert_values) > 2:\n",
    "                    issues.append(f\"Múltiplos tipos de certificação: {cert_values}\")\n",
    "                elif 2 in cert_values and meta['year'] >= 2010:\n",
    "                    # Verificar se há Ensino Médio (que não deveria existir no Brasil após 2009)\n",
    "                    medio_count = (df['TP_CERTIFICACAO'] == 2).sum()\n",
    "                    if medio_count > 0:\n",
    "                        issues.append(f\"⚠️  {medio_count} registros de Ensino Médio (não deveria existir no Brasil pós-2009)\")\n",
    "            \n",
    "            # Verificar variáveis de aprovação\n",
    "            approval_cols = [col for col in df.columns if col.startswith('IN_APROVADO_')]\n",
    "            if not approval_cols:\n",
    "                issues.append(\"❌ Variáveis de aprovação não encontradas\")\n",
    "            \n",
    "            # Verificar variáveis de nota\n",
    "            nota_cols = [col for col in df.columns if col.startswith('NU_NOTA_') and not col.endswith('_COMP1') and not col.endswith('_COMP2') and not col.endswith('_COMP3') and not col.endswith('_COMP4') and not col.endswith('_COMP5') and col != 'NU_NOTA_REDACAO']\n",
    "            if len(nota_cols) != 4:\n",
    "                issues.append(f\"⚠️  Esperadas 4 notas por área, encontradas {len(nota_cols)}\")\n",
    "            \n",
    "            validation_results[key] = {\n",
    "                'status': 'OK' if not issues else 'ISSUES',\n",
    "                'issues': issues\n",
    "            }\n",
    "            \n",
    "            # Exibir resultados\n",
    "            status_icon = \"✅\" if not issues else \"⚠️\"\n",
    "            print(f\"{status_icon} {key}: {meta['total_records']:,} registros\")\n",
    "            for issue in issues:\n",
    "                print(f\"    {issue}\")\n",
    "        \n",
    "        return validation_results\n",
    "    \n",
    "    def get_summary(self):\n",
    "        \"\"\"Retorna resumo dos dados carregados\"\"\"\n",
    "        summary = {}\n",
    "        for key, meta in self.metadata.items():\n",
    "            summary[key] = {\n",
    "                'year': meta['year'],\n",
    "                'population': meta['population'],\n",
    "                'records': meta['total_records'],\n",
    "                'columns': meta['total_columns']\n",
    "            }\n",
    "        return summary\n",
    "\n",
    "# Instanciar carregador\n",
    "loader = EnccejaDataLoader()\n",
    "print(\"✅ Classe EnccejaDataLoader criada\")"
   ]
  },
  {
   "cell_type": "markdown",
   "id": "08cb3a5b",
   "metadata": {},
   "source": [
    "## 📊 3. Carregamento dos Dados"
   ]
  },
  {
   "cell_type": "code",
   "execution_count": 9,
   "id": "c492ac23",
   "metadata": {},
   "outputs": [
    {
     "name": "stderr",
     "output_type": "stream",
     "text": [
      "INFO: Carregando regular_2019 (2019)...\n"
     ]
    },
    {
     "name": "stdout",
     "output_type": "stream",
     "text": [
      "🔄 CARREGANDO DATASETS COMPLETOS PARA PUBLICAÇÃO...\n",
      "============================================================\n",
      "⚠️  Esta execução pode demorar mais devido ao volume de dados\n",
      "🔄 CARREGANDO DATASETS...\n",
      "============================================================\n"
     ]
    },
    {
     "name": "stderr",
     "output_type": "stream",
     "text": [
      "INFO: ✅ regular_2019: 2,973,376 registros, 91 colunas\n",
      "INFO: Carregando ppl_2019 (2019)...\n",
      "INFO: Carregando ppl_2019 (2019)...\n",
      "INFO: ✅ ppl_2019: 65,169 registros, 43 colunas\n",
      "INFO: Carregando regular_2023 (2023)...\n",
      "INFO: ✅ ppl_2019: 65,169 registros, 43 colunas\n",
      "INFO: Carregando regular_2023 (2023)...\n",
      "INFO: ✅ regular_2023: 1,103,939 registros, 124 colunas\n",
      "INFO: Carregando ppl_2023 (2023)...\n",
      "INFO: ✅ regular_2023: 1,103,939 registros, 124 colunas\n",
      "INFO: Carregando ppl_2023 (2023)...\n",
      "INFO: ✅ ppl_2023: 153,809 registros, 43 colunas\n",
      "INFO: ✅ ppl_2023: 153,809 registros, 43 colunas\n"
     ]
    },
    {
     "name": "stdout",
     "output_type": "stream",
     "text": [
      "\n",
      "📊 RESUMO: 4/4 datasets carregados\n",
      "\n",
      "✅ TODOS OS DATASETS COMPLETOS CARREGADOS COM SUCESSO\n",
      "\n",
      "🔍 VALIDAÇÃO DA ESTRUTURA DOS DADOS\n",
      "============================================================\n",
      "⚠️ regular_2019: 2,973,376 registros\n",
      "    ⚠️  2331797 registros de Ensino Médio (não deveria existir no Brasil pós-2009)\n",
      "⚠️ ppl_2019: 65,169 registros\n",
      "    ⚠️  27783 registros de Ensino Médio (não deveria existir no Brasil pós-2009)\n",
      "⚠️ regular_2023: 1,103,939 registros\n",
      "    ⚠️  910439 registros de Ensino Médio (não deveria existir no Brasil pós-2009)\n",
      "⚠️ ppl_2023: 153,809 registros\n",
      "    ⚠️  61992 registros de Ensino Médio (não deveria existir no Brasil pós-2009)\n",
      "\n",
      "📋 RESUMO DOS DADOS COMPLETOS CARREGADOS:\n",
      "   regular_2019: 2019 | REGULAR | 2,973,376 registros | 91 colunas\n",
      "   ppl_2019: 2019 | PPL | 65,169 registros | 43 colunas\n",
      "   regular_2023: 2023 | REGULAR | 1,103,939 registros | 124 colunas\n",
      "   ppl_2023: 2023 | PPL | 153,809 registros | 43 colunas\n"
     ]
    }
   ],
   "source": [
    "# Carregar todos os datasets\n",
    "# CONFIGURAÇÃO PARA PUBLICAÇÃO: Usando dados completos\n",
    "\n",
    "USE_SAMPLES = False  # DADOS COMPLETOS para análise de publicação\n",
    "SAMPLE_SIZE = None   # Não aplicável quando usando dados completos\n",
    "\n",
    "print(\"🔄 CARREGANDO DATASETS COMPLETOS PARA PUBLICAÇÃO...\")\n",
    "print(\"=\"*60)\n",
    "print(\"⚠️  Esta execução pode demorar mais devido ao volume de dados\")\n",
    "\n",
    "success = loader.load_all_datasets(use_samples=USE_SAMPLES, sample_size=SAMPLE_SIZE)\n",
    "\n",
    "if success:\n",
    "    print(\"\\n✅ TODOS OS DATASETS COMPLETOS CARREGADOS COM SUCESSO\")\n",
    "    \n",
    "    # Validar estrutura\n",
    "    validation = loader.validate_data_structure()\n",
    "    \n",
    "    # Exibir resumo\n",
    "    print(\"\\n📋 RESUMO DOS DADOS COMPLETOS CARREGADOS:\")\n",
    "    summary = loader.get_summary()\n",
    "    for key, info in summary.items():\n",
    "        print(f\"   {key}: {info['year']} | {info['population'].upper()} | {info['records']:,} registros | {info['columns']} colunas\")\n",
    "        \n",
    "else:\n",
    "    print(\"❌ FALHA NO CARREGAMENTO - Verifique os caminhos dos arquivos\")\n",
    "    raise Exception(\"Não foi possível carregar os dados necessários\")"
   ]
  },
  {
   "cell_type": "markdown",
   "id": "a0a1141f",
   "metadata": {},
   "source": [
    "## 🔬 4. Classe para Análise Metodologicamente Correta"
   ]
  },
  {
   "cell_type": "code",
   "execution_count": 4,
   "id": "7fc0c1a0",
   "metadata": {},
   "outputs": [
    {
     "name": "stdout",
     "output_type": "stream",
     "text": [
      "✅ Classe CorrectMethodologyAnalyzer criada\n"
     ]
    }
   ],
   "source": [
    "class CorrectMethodologyAnalyzer:\n",
    "    \"\"\"Analisador com metodologia cientificamente correta\"\"\"\n",
    "    \n",
    "    def __init__(self, loader):\n",
    "        self.loader = loader\n",
    "        self.results = {}\n",
    "        \n",
    "        # Mapear áreas de conhecimento\n",
    "        self.areas = {\n",
    "            'LC': 'Linguagens e Códigos',\n",
    "            'MT': 'Matemática',\n",
    "            'CN': 'Ciências da Natureza', \n",
    "            'CH': 'Ciências Humanas'\n",
    "        }\n",
    "        \n",
    "        # Critérios oficiais INEP\n",
    "        self.approval_criteria = {\n",
    "            'min_score_objective': 100,  # Mínimo por área (escala TRI)\n",
    "            'min_score_essay': 5.0       # Mínimo redação (escala 0-10)\n",
    "        }\n",
    "    \n",
    "    def analyze_population_changes(self):\n",
    "        \"\"\"Analisa mudanças populacionais por tipo de candidato\"\"\"\n",
    "        print(\"📊 ANÁLISE DE MUDANÇAS POPULACIONAIS\")\n",
    "        print(\"=\"*60)\n",
    "        \n",
    "        population_analysis = {}\n",
    "        \n",
    "        # Analisar Regular\n",
    "        if 'regular_2019' in self.loader.data and 'regular_2023' in self.loader.data:\n",
    "            reg_2019 = len(self.loader.data['regular_2019'])\n",
    "            reg_2023 = len(self.loader.data['regular_2023'])\n",
    "            reg_change = ((reg_2023 - reg_2019) / reg_2019) * 100\n",
    "            \n",
    "            population_analysis['regular'] = {\n",
    "                '2019': reg_2019,\n",
    "                '2023': reg_2023,\n",
    "                'change_pct': reg_change,\n",
    "                'change_abs': reg_2023 - reg_2019\n",
    "            }\n",
    "            \n",
    "            print(f\"👥 POPULAÇÃO REGULAR (Candidatos Livres):\")\n",
    "            print(f\"   2019: {reg_2019:,} candidatos\")\n",
    "            print(f\"   2023: {reg_2023:,} candidatos\")\n",
    "            print(f\"   Mudança: {reg_change:+.1f}% ({reg_2023-reg_2019:+,} candidatos)\")\n",
    "        \n",
    "        # Analisar PPL\n",
    "        if 'ppl_2019' in self.loader.data and 'ppl_2023' in self.loader.data:\n",
    "            ppl_2019 = len(self.loader.data['ppl_2019'])\n",
    "            ppl_2023 = len(self.loader.data['ppl_2023'])\n",
    "            ppl_change = ((ppl_2023 - ppl_2019) / ppl_2019) * 100\n",
    "            \n",
    "            population_analysis['ppl'] = {\n",
    "                '2019': ppl_2019,\n",
    "                '2023': ppl_2023,\n",
    "                'change_pct': ppl_change,\n",
    "                'change_abs': ppl_2023 - ppl_2019\n",
    "            }\n",
    "            \n",
    "            print(f\"\\n🔒 POPULAÇÃO PPL (Privados de Liberdade):\")\n",
    "            print(f\"   2019: {ppl_2019:,} candidatos\")\n",
    "            print(f\"   2023: {ppl_2023:,} candidatos\")\n",
    "            print(f\"   Mudança: {ppl_change:+.1f}% ({ppl_2023-ppl_2019:+,} candidatos)\")\n",
    "        \n",
    "        # Interpretação\n",
    "        print(f\"\\n💡 INTERPRETAÇÃO CORRIGIDA:\")\n",
    "        if 'regular' in population_analysis:\n",
    "            if population_analysis['regular']['change_pct'] < -50:\n",
    "                print(f\"   ⚠️  Redução significativa na população regular ({population_analysis['regular']['change_pct']:.1f}%)\")\n",
    "                print(f\"      Possíveis fatores: pandemia, políticas educacionais, demografia\")\n",
    "        \n",
    "        if 'ppl' in population_analysis:\n",
    "            if population_analysis['ppl']['change_pct'] > 50:\n",
    "                print(f\"   📈 Crescimento significativo na população PPL ({population_analysis['ppl']['change_pct']:.1f}%)\")\n",
    "                print(f\"      Possíveis fatores: expansão do programa prisional, maior acesso\")\n",
    "        \n",
    "        self.results['population_changes'] = population_analysis\n",
    "        return population_analysis\n",
    "    \n",
    "    def analyze_demographic_consistency(self):\n",
    "        \"\"\"Verifica consistência demográfica entre anos\"\"\"\n",
    "        print(f\"\\n🔍 ANÁLISE DE CONSISTÊNCIA DEMOGRÁFICA\")\n",
    "        print(\"=\"*60)\n",
    "        \n",
    "        demographic_analysis = {}\n",
    "        \n",
    "        # Analisar cada população separadamente\n",
    "        for pop_type in ['regular', 'ppl']:\n",
    "            key_2019 = f\"{pop_type}_2019\"\n",
    "            key_2023 = f\"{pop_type}_2023\"\n",
    "            \n",
    "            if key_2019 in self.loader.data and key_2023 in self.loader.data:\n",
    "                df_2019 = self.loader.data[key_2019]\n",
    "                df_2023 = self.loader.data[key_2023]\n",
    "                \n",
    "                demo_analysis = {}\n",
    "                \n",
    "                # Análise por sexo\n",
    "                if 'TP_SEXO' in df_2019.columns and 'TP_SEXO' in df_2023.columns:\n",
    "                    sex_2019 = df_2019['TP_SEXO'].value_counts(normalize=True) * 100\n",
    "                    sex_2023 = df_2023['TP_SEXO'].value_counts(normalize=True) * 100\n",
    "                    \n",
    "                    demo_analysis['sexo'] = {\n",
    "                        '2019': sex_2019.to_dict(),\n",
    "                        '2023': sex_2023.to_dict()\n",
    "                    }\n",
    "                    \n",
    "                    print(f\"\\n👥 DISTRIBUIÇÃO POR SEXO - {pop_type.upper()}:\")\n",
    "                    for sex in ['M', 'F']:\n",
    "                        if sex in sex_2019 and sex in sex_2023:\n",
    "                            change = sex_2023[sex] - sex_2019[sex]\n",
    "                            print(f\"   {sex}: 2019={sex_2019[sex]:.1f}% | 2023={sex_2023[sex]:.1f}% | Δ={change:+.1f}pp\")\n",
    "                \n",
    "                # Análise por faixa etária (top 5)\n",
    "                if 'TP_FAIXA_ETARIA' in df_2019.columns and 'TP_FAIXA_ETARIA' in df_2023.columns:\n",
    "                    age_2019 = df_2019['TP_FAIXA_ETARIA'].value_counts(normalize=True) * 100\n",
    "                    age_2023 = df_2023['TP_FAIXA_ETARIA'].value_counts(normalize=True) * 100\n",
    "                    \n",
    "                    demo_analysis['faixa_etaria'] = {\n",
    "                        '2019': age_2019.to_dict(),\n",
    "                        '2023': age_2023.to_dict()\n",
    "                    }\n",
    "                    \n",
    "                    print(f\"\\n📅 FAIXAS ETÁRIAS PRINCIPAIS - {pop_type.upper()}:\")\n",
    "                    common_ages = set(age_2019.index) & set(age_2023.index)\n",
    "                    top_ages = sorted(common_ages, key=lambda x: age_2019.get(x, 0) + age_2023.get(x, 0), reverse=True)[:5]\n",
    "                    \n",
    "                    for age in top_ages:\n",
    "                        change = age_2023[age] - age_2019[age]\n",
    "                        print(f\"   Faixa {age}: 2019={age_2019[age]:.1f}% | 2023={age_2023[age]:.1f}% | Δ={change:+.1f}pp\")\n",
    "                \n",
    "                demographic_analysis[pop_type] = demo_analysis\n",
    "        \n",
    "        self.results['demographic_consistency'] = demographic_analysis\n",
    "        return demographic_analysis\n",
    "    \n",
    "    def analyze_performance_by_population(self):\n",
    "        \"\"\"Analisa desempenho usando critérios oficiais por população\"\"\"\n",
    "        print(f\"\\n📈 ANÁLISE DE DESEMPENHO (CRITÉRIOS OFICIAIS INEP)\")\n",
    "        print(\"=\"*60)\n",
    "        print(f\"Critérios: ≥{self.approval_criteria['min_score_objective']} pontos/área + ≥{self.approval_criteria['min_score_essay']} redação\")\n",
    "        \n",
    "        performance_analysis = {}\n",
    "        \n",
    "        for pop_type in ['regular', 'ppl']:\n",
    "            key_2019 = f\"{pop_type}_2019\"\n",
    "            key_2023 = f\"{pop_type}_2023\"\n",
    "            \n",
    "            if key_2019 in self.loader.data and key_2023 in self.loader.data:\n",
    "                perf_analysis = {}\n",
    "                \n",
    "                for year, key in [('2019', key_2019), ('2023', key_2023)]:\n",
    "                    df = self.loader.data[key]\n",
    "                    year_analysis = {}\n",
    "                    \n",
    "                    # Usar variáveis de aprovação oficiais do INEP\n",
    "                    approval_rates = {}\n",
    "                    for area_code, area_name in self.areas.items():\n",
    "                        col_name = f'IN_APROVADO_{area_code}'\n",
    "                        if col_name in df.columns:\n",
    "                            # Calcular taxa de aprovação apenas para quem fez a prova\n",
    "                            valid_data = df[col_name].dropna()\n",
    "                            if len(valid_data) > 0:\n",
    "                                approval_rate = (valid_data == 1).mean() * 100\n",
    "                                approval_rates[area_name] = approval_rate\n",
    "                    \n",
    "                    year_analysis['approval_rates'] = approval_rates\n",
    "                    \n",
    "                    # Análise da redação\n",
    "                    if 'NU_NOTA_REDACAO' in df.columns and 'TP_STATUS_REDACAO' in df.columns:\n",
    "                        # Considerar apenas redações válidas (status = 1)\n",
    "                        valid_essays = df[df['TP_STATUS_REDACAO'] == 1]\n",
    "                        if len(valid_essays) > 0:\n",
    "                            essay_scores = valid_essays['NU_NOTA_REDACAO'].dropna()\n",
    "                            if len(essay_scores) > 0:\n",
    "                                essay_approval = (essay_scores >= self.approval_criteria['min_score_essay']).mean() * 100\n",
    "                                year_analysis['essay_approval'] = essay_approval\n",
    "                                year_analysis['essay_mean'] = essay_scores.mean()\n",
    "                    \n",
    "                    # Participação por área\n",
    "                    participation = {}\n",
    "                    for area_code in self.areas.keys():\n",
    "                        presence_col = f'TP_PRESENCA_{area_code}'\n",
    "                        if presence_col in df.columns:\n",
    "                            # Presença = 1, Ausência = 0 ou outras\n",
    "                            valid_presence = df[presence_col].dropna()\n",
    "                            if len(valid_presence) > 0:\n",
    "                                presence_rate = (valid_presence == 1).mean() * 100\n",
    "                                participation[self.areas[area_code]] = presence_rate\n",
    "                    \n",
    "                    year_analysis['participation_rates'] = participation\n",
    "                    perf_analysis[year] = year_analysis\n",
    "                \n",
    "                # Exibir resultados\n",
    "                print(f\"\\n📊 DESEMPENHO - {pop_type.upper()}:\")\n",
    "                \n",
    "                # Taxas de aprovação\n",
    "                print(f\"   Aprovação por Área:\")\n",
    "                for area in self.areas.values():\n",
    "                    if area in perf_analysis['2019'].get('approval_rates', {}) and area in perf_analysis['2023'].get('approval_rates', {}):\n",
    "                        rate_2019 = perf_analysis['2019']['approval_rates'][area]\n",
    "                        rate_2023 = perf_analysis['2023']['approval_rates'][area]\n",
    "                        change = rate_2023 - rate_2019\n",
    "                        print(f\"     {area}: 2019={rate_2019:.1f}% | 2023={rate_2023:.1f}% | Δ={change:+.1f}pp\")\n",
    "                \n",
    "                # Redação\n",
    "                if 'essay_approval' in perf_analysis['2019'] and 'essay_approval' in perf_analysis['2023']:\n",
    "                    essay_2019 = perf_analysis['2019']['essay_approval']\n",
    "                    essay_2023 = perf_analysis['2023']['essay_approval']\n",
    "                    essay_change = essay_2023 - essay_2019\n",
    "                    print(f\"   Redação (≥5.0): 2019={essay_2019:.1f}% | 2023={essay_2023:.1f}% | Δ={essay_change:+.1f}pp\")\n",
    "                \n",
    "                performance_analysis[pop_type] = perf_analysis\n",
    "        \n",
    "        self.results['performance'] = performance_analysis\n",
    "        return performance_analysis\n",
    "    \n",
    "    def run_complete_analysis(self):\n",
    "        \"\"\"Executa análise completa metodologicamente correta\"\"\"\n",
    "        print(\"🔬 INICIANDO ANÁLISE METODOLOGICAMENTE CORRETA\")\n",
    "        print(\"=\"*80)\n",
    "        \n",
    "        # 1. Mudanças populacionais\n",
    "        self.analyze_population_changes()\n",
    "        \n",
    "        # 2. Consistência demográfica\n",
    "        self.analyze_demographic_consistency()\n",
    "        \n",
    "        # 3. Desempenho por população\n",
    "        self.analyze_performance_by_population()\n",
    "        \n",
    "        print(f\"\\n✅ ANÁLISE CONCLUÍDA\")\n",
    "        return self.results\n",
    "\n",
    "# Instanciar analisador\n",
    "analyzer = CorrectMethodologyAnalyzer(loader)\n",
    "print(\"✅ Classe CorrectMethodologyAnalyzer criada\")"
   ]
  },
  {
   "cell_type": "markdown",
   "id": "54663321",
   "metadata": {},
   "source": [
    "## 📊 5. Execução da Análise Corrigida"
   ]
  },
  {
   "cell_type": "code",
   "execution_count": 10,
   "id": "eee74d08",
   "metadata": {},
   "outputs": [
    {
     "name": "stdout",
     "output_type": "stream",
     "text": [
      "🔬 INICIANDO ANÁLISE METODOLOGICAMENTE CORRETA\n",
      "================================================================================\n",
      "📊 ANÁLISE DE MUDANÇAS POPULACIONAIS\n",
      "============================================================\n",
      "👥 POPULAÇÃO REGULAR (Candidatos Livres):\n",
      "   2019: 2,973,376 candidatos\n",
      "   2023: 1,103,939 candidatos\n",
      "   Mudança: -62.9% (-1,869,437 candidatos)\n",
      "\n",
      "🔒 POPULAÇÃO PPL (Privados de Liberdade):\n",
      "   2019: 65,169 candidatos\n",
      "   2023: 153,809 candidatos\n",
      "   Mudança: +136.0% (+88,640 candidatos)\n",
      "\n",
      "💡 INTERPRETAÇÃO CORRIGIDA:\n",
      "   ⚠️  Redução significativa na população regular (-62.9%)\n",
      "      Possíveis fatores: pandemia, políticas educacionais, demografia\n",
      "   📈 Crescimento significativo na população PPL (136.0%)\n",
      "      Possíveis fatores: expansão do programa prisional, maior acesso\n",
      "\n",
      "🔍 ANÁLISE DE CONSISTÊNCIA DEMOGRÁFICA\n",
      "============================================================\n",
      "\n",
      "👥 DISTRIBUIÇÃO POR SEXO - REGULAR:\n",
      "   M: 2019=48.2% | 2023=44.5% | Δ=-3.7pp\n",
      "   F: 2019=51.8% | 2023=55.5% | Δ=+3.7pp\n",
      "\n",
      "📅 FAIXAS ETÁRIAS PRINCIPAIS - REGULAR:\n",
      "   Faixa 11: 2019=16.4% | 2023=17.4% | Δ=+1.0pp\n",
      "   Faixa 12: 2019=12.1% | 2023=12.9% | Δ=+0.8pp\n",
      "   Faixa 13: 2019=10.2% | 2023=10.0% | Δ=-0.2pp\n",
      "   Faixa 14: 2019=7.9% | 2023=7.9% | Δ=+0.0pp\n",
      "   Faixa 4: 2019=6.9% | 2023=7.0% | Δ=+0.1pp\n",
      "\n",
      "👥 DISTRIBUIÇÃO POR SEXO - PPL:\n",
      "   M: 2019=91.3% | 2023=92.4% | Δ=+1.1pp\n",
      "   F: 2019=8.7% | 2023=7.6% | Δ=-1.1pp\n",
      "\n",
      "📅 FAIXAS ETÁRIAS PRINCIPAIS - PPL:\n",
      "   Faixa 11: 2019=22.8% | 2023=24.1% | Δ=+1.3pp\n",
      "   Faixa 12: 2019=17.0% | 2023=18.8% | Δ=+1.8pp\n",
      "   Faixa 13: 2019=12.0% | 2023=13.3% | Δ=+1.3pp\n",
      "   Faixa 14: 2019=6.7% | 2023=8.7% | Δ=+2.0pp\n",
      "   Faixa 10: 2019=5.0% | 2023=4.5% | Δ=-0.5pp\n",
      "\n",
      "📈 ANÁLISE DE DESEMPENHO (CRITÉRIOS OFICIAIS INEP)\n",
      "============================================================\n",
      "Critérios: ≥100 pontos/área + ≥5.0 redação\n",
      "\n",
      "📊 DESEMPENHO - REGULAR:\n",
      "   Aprovação por Área:\n",
      "     Linguagens e Códigos: 2019=77.0% | 2023=23.5% | Δ=-53.5pp\n",
      "     Matemática: 2019=55.8% | 2023=18.6% | Δ=-37.2pp\n",
      "     Ciências da Natureza: 2019=91.8% | 2023=28.8% | Δ=-62.9pp\n",
      "     Ciências Humanas: 2019=82.6% | 2023=26.9% | Δ=-55.7pp\n",
      "   Redação (≥5.0): 2019=92.3% | 2023=85.7% | Δ=-6.6pp\n",
      "\n",
      "📊 DESEMPENHO - PPL:\n",
      "   Aprovação por Área:\n",
      "     Linguagens e Códigos: 2019=54.0% | 2023=38.6% | Δ=-15.4pp\n",
      "     Matemática: 2019=46.6% | 2023=42.0% | Δ=-4.6pp\n",
      "     Ciências da Natureza: 2019=71.5% | 2023=53.6% | Δ=-17.9pp\n",
      "     Ciências Humanas: 2019=53.7% | 2023=46.7% | Δ=-7.0pp\n",
      "   Redação (≥5.0): 2019=87.5% | 2023=84.6% | Δ=-2.8pp\n",
      "\n",
      "✅ ANÁLISE CONCLUÍDA\n",
      "\n",
      "📊 DESEMPENHO - REGULAR:\n",
      "   Aprovação por Área:\n",
      "     Linguagens e Códigos: 2019=77.0% | 2023=23.5% | Δ=-53.5pp\n",
      "     Matemática: 2019=55.8% | 2023=18.6% | Δ=-37.2pp\n",
      "     Ciências da Natureza: 2019=91.8% | 2023=28.8% | Δ=-62.9pp\n",
      "     Ciências Humanas: 2019=82.6% | 2023=26.9% | Δ=-55.7pp\n",
      "   Redação (≥5.0): 2019=92.3% | 2023=85.7% | Δ=-6.6pp\n",
      "\n",
      "📊 DESEMPENHO - PPL:\n",
      "   Aprovação por Área:\n",
      "     Linguagens e Códigos: 2019=54.0% | 2023=38.6% | Δ=-15.4pp\n",
      "     Matemática: 2019=46.6% | 2023=42.0% | Δ=-4.6pp\n",
      "     Ciências da Natureza: 2019=71.5% | 2023=53.6% | Δ=-17.9pp\n",
      "     Ciências Humanas: 2019=53.7% | 2023=46.7% | Δ=-7.0pp\n",
      "   Redação (≥5.0): 2019=87.5% | 2023=84.6% | Δ=-2.8pp\n",
      "\n",
      "✅ ANÁLISE CONCLUÍDA\n"
     ]
    }
   ],
   "source": [
    "# Executar análise completa\n",
    "results = analyzer.run_complete_analysis()"
   ]
  },
  {
   "cell_type": "markdown",
   "id": "a4ed9473",
   "metadata": {},
   "source": [
    "## 📈 6. Visualizações Corrigidas"
   ]
  },
  {
   "cell_type": "code",
   "execution_count": 11,
   "id": "9999ef07",
   "metadata": {},
   "outputs": [
    {
     "data": {
      "application/vnd.plotly.v1+json": {
       "config": {
        "plotlyServerURL": "https://plot.ly"
       },
       "data": [
        {
         "marker": {
          "color": "lightblue"
         },
         "name": "Regular",
         "text": [
          "2,973,376",
          "1,103,939"
         ],
         "textposition": "auto",
         "type": "bar",
         "x": [
          "2019",
          "2023"
         ],
         "xaxis": "x",
         "y": [
          2973376,
          1103939
         ],
         "yaxis": "y"
        },
        {
         "marker": {
          "color": "lightcoral"
         },
         "name": "PPL",
         "text": [
          "65,169",
          "153,809"
         ],
         "textposition": "auto",
         "type": "bar",
         "x": [
          "2019",
          "2023"
         ],
         "xaxis": "x2",
         "y": [
          65169,
          153809
         ],
         "yaxis": "y2"
        }
       ],
       "layout": {
        "annotations": [
         {
          "font": {
           "size": 16
          },
          "showarrow": false,
          "text": "Candidatos Regulares",
          "x": 0.225,
          "xanchor": "center",
          "xref": "paper",
          "y": 1,
          "yanchor": "bottom",
          "yref": "paper"
         },
         {
          "font": {
           "size": 16
          },
          "showarrow": false,
          "text": "Pessoas Privadas de Liberdade (PPL)",
          "x": 0.775,
          "xanchor": "center",
          "xref": "paper",
          "y": 1,
          "yanchor": "bottom",
          "yref": "paper"
         }
        ],
        "height": 500,
        "showlegend": false,
        "template": {
         "data": {
          "bar": [
           {
            "error_x": {
             "color": "#2a3f5f"
            },
            "error_y": {
             "color": "#2a3f5f"
            },
            "marker": {
             "line": {
              "color": "#E5ECF6",
              "width": 0.5
             },
             "pattern": {
              "fillmode": "overlay",
              "size": 10,
              "solidity": 0.2
             }
            },
            "type": "bar"
           }
          ],
          "barpolar": [
           {
            "marker": {
             "line": {
              "color": "#E5ECF6",
              "width": 0.5
             },
             "pattern": {
              "fillmode": "overlay",
              "size": 10,
              "solidity": 0.2
             }
            },
            "type": "barpolar"
           }
          ],
          "carpet": [
           {
            "aaxis": {
             "endlinecolor": "#2a3f5f",
             "gridcolor": "white",
             "linecolor": "white",
             "minorgridcolor": "white",
             "startlinecolor": "#2a3f5f"
            },
            "baxis": {
             "endlinecolor": "#2a3f5f",
             "gridcolor": "white",
             "linecolor": "white",
             "minorgridcolor": "white",
             "startlinecolor": "#2a3f5f"
            },
            "type": "carpet"
           }
          ],
          "choropleth": [
           {
            "colorbar": {
             "outlinewidth": 0,
             "ticks": ""
            },
            "type": "choropleth"
           }
          ],
          "contour": [
           {
            "colorbar": {
             "outlinewidth": 0,
             "ticks": ""
            },
            "colorscale": [
             [
              0,
              "#0d0887"
             ],
             [
              0.1111111111111111,
              "#46039f"
             ],
             [
              0.2222222222222222,
              "#7201a8"
             ],
             [
              0.3333333333333333,
              "#9c179e"
             ],
             [
              0.4444444444444444,
              "#bd3786"
             ],
             [
              0.5555555555555556,
              "#d8576b"
             ],
             [
              0.6666666666666666,
              "#ed7953"
             ],
             [
              0.7777777777777778,
              "#fb9f3a"
             ],
             [
              0.8888888888888888,
              "#fdca26"
             ],
             [
              1,
              "#f0f921"
             ]
            ],
            "type": "contour"
           }
          ],
          "contourcarpet": [
           {
            "colorbar": {
             "outlinewidth": 0,
             "ticks": ""
            },
            "type": "contourcarpet"
           }
          ],
          "heatmap": [
           {
            "colorbar": {
             "outlinewidth": 0,
             "ticks": ""
            },
            "colorscale": [
             [
              0,
              "#0d0887"
             ],
             [
              0.1111111111111111,
              "#46039f"
             ],
             [
              0.2222222222222222,
              "#7201a8"
             ],
             [
              0.3333333333333333,
              "#9c179e"
             ],
             [
              0.4444444444444444,
              "#bd3786"
             ],
             [
              0.5555555555555556,
              "#d8576b"
             ],
             [
              0.6666666666666666,
              "#ed7953"
             ],
             [
              0.7777777777777778,
              "#fb9f3a"
             ],
             [
              0.8888888888888888,
              "#fdca26"
             ],
             [
              1,
              "#f0f921"
             ]
            ],
            "type": "heatmap"
           }
          ],
          "histogram": [
           {
            "marker": {
             "pattern": {
              "fillmode": "overlay",
              "size": 10,
              "solidity": 0.2
             }
            },
            "type": "histogram"
           }
          ],
          "histogram2d": [
           {
            "colorbar": {
             "outlinewidth": 0,
             "ticks": ""
            },
            "colorscale": [
             [
              0,
              "#0d0887"
             ],
             [
              0.1111111111111111,
              "#46039f"
             ],
             [
              0.2222222222222222,
              "#7201a8"
             ],
             [
              0.3333333333333333,
              "#9c179e"
             ],
             [
              0.4444444444444444,
              "#bd3786"
             ],
             [
              0.5555555555555556,
              "#d8576b"
             ],
             [
              0.6666666666666666,
              "#ed7953"
             ],
             [
              0.7777777777777778,
              "#fb9f3a"
             ],
             [
              0.8888888888888888,
              "#fdca26"
             ],
             [
              1,
              "#f0f921"
             ]
            ],
            "type": "histogram2d"
           }
          ],
          "histogram2dcontour": [
           {
            "colorbar": {
             "outlinewidth": 0,
             "ticks": ""
            },
            "colorscale": [
             [
              0,
              "#0d0887"
             ],
             [
              0.1111111111111111,
              "#46039f"
             ],
             [
              0.2222222222222222,
              "#7201a8"
             ],
             [
              0.3333333333333333,
              "#9c179e"
             ],
             [
              0.4444444444444444,
              "#bd3786"
             ],
             [
              0.5555555555555556,
              "#d8576b"
             ],
             [
              0.6666666666666666,
              "#ed7953"
             ],
             [
              0.7777777777777778,
              "#fb9f3a"
             ],
             [
              0.8888888888888888,
              "#fdca26"
             ],
             [
              1,
              "#f0f921"
             ]
            ],
            "type": "histogram2dcontour"
           }
          ],
          "mesh3d": [
           {
            "colorbar": {
             "outlinewidth": 0,
             "ticks": ""
            },
            "type": "mesh3d"
           }
          ],
          "parcoords": [
           {
            "line": {
             "colorbar": {
              "outlinewidth": 0,
              "ticks": ""
             }
            },
            "type": "parcoords"
           }
          ],
          "pie": [
           {
            "automargin": true,
            "type": "pie"
           }
          ],
          "scatter": [
           {
            "fillpattern": {
             "fillmode": "overlay",
             "size": 10,
             "solidity": 0.2
            },
            "type": "scatter"
           }
          ],
          "scatter3d": [
           {
            "line": {
             "colorbar": {
              "outlinewidth": 0,
              "ticks": ""
             }
            },
            "marker": {
             "colorbar": {
              "outlinewidth": 0,
              "ticks": ""
             }
            },
            "type": "scatter3d"
           }
          ],
          "scattercarpet": [
           {
            "marker": {
             "colorbar": {
              "outlinewidth": 0,
              "ticks": ""
             }
            },
            "type": "scattercarpet"
           }
          ],
          "scattergeo": [
           {
            "marker": {
             "colorbar": {
              "outlinewidth": 0,
              "ticks": ""
             }
            },
            "type": "scattergeo"
           }
          ],
          "scattergl": [
           {
            "marker": {
             "colorbar": {
              "outlinewidth": 0,
              "ticks": ""
             }
            },
            "type": "scattergl"
           }
          ],
          "scattermap": [
           {
            "marker": {
             "colorbar": {
              "outlinewidth": 0,
              "ticks": ""
             }
            },
            "type": "scattermap"
           }
          ],
          "scattermapbox": [
           {
            "marker": {
             "colorbar": {
              "outlinewidth": 0,
              "ticks": ""
             }
            },
            "type": "scattermapbox"
           }
          ],
          "scatterpolar": [
           {
            "marker": {
             "colorbar": {
              "outlinewidth": 0,
              "ticks": ""
             }
            },
            "type": "scatterpolar"
           }
          ],
          "scatterpolargl": [
           {
            "marker": {
             "colorbar": {
              "outlinewidth": 0,
              "ticks": ""
             }
            },
            "type": "scatterpolargl"
           }
          ],
          "scatterternary": [
           {
            "marker": {
             "colorbar": {
              "outlinewidth": 0,
              "ticks": ""
             }
            },
            "type": "scatterternary"
           }
          ],
          "surface": [
           {
            "colorbar": {
             "outlinewidth": 0,
             "ticks": ""
            },
            "colorscale": [
             [
              0,
              "#0d0887"
             ],
             [
              0.1111111111111111,
              "#46039f"
             ],
             [
              0.2222222222222222,
              "#7201a8"
             ],
             [
              0.3333333333333333,
              "#9c179e"
             ],
             [
              0.4444444444444444,
              "#bd3786"
             ],
             [
              0.5555555555555556,
              "#d8576b"
             ],
             [
              0.6666666666666666,
              "#ed7953"
             ],
             [
              0.7777777777777778,
              "#fb9f3a"
             ],
             [
              0.8888888888888888,
              "#fdca26"
             ],
             [
              1,
              "#f0f921"
             ]
            ],
            "type": "surface"
           }
          ],
          "table": [
           {
            "cells": {
             "fill": {
              "color": "#EBF0F8"
             },
             "line": {
              "color": "white"
             }
            },
            "header": {
             "fill": {
              "color": "#C8D4E3"
             },
             "line": {
              "color": "white"
             }
            },
            "type": "table"
           }
          ]
         },
         "layout": {
          "annotationdefaults": {
           "arrowcolor": "#2a3f5f",
           "arrowhead": 0,
           "arrowwidth": 1
          },
          "autotypenumbers": "strict",
          "coloraxis": {
           "colorbar": {
            "outlinewidth": 0,
            "ticks": ""
           }
          },
          "colorscale": {
           "diverging": [
            [
             0,
             "#8e0152"
            ],
            [
             0.1,
             "#c51b7d"
            ],
            [
             0.2,
             "#de77ae"
            ],
            [
             0.3,
             "#f1b6da"
            ],
            [
             0.4,
             "#fde0ef"
            ],
            [
             0.5,
             "#f7f7f7"
            ],
            [
             0.6,
             "#e6f5d0"
            ],
            [
             0.7,
             "#b8e186"
            ],
            [
             0.8,
             "#7fbc41"
            ],
            [
             0.9,
             "#4d9221"
            ],
            [
             1,
             "#276419"
            ]
           ],
           "sequential": [
            [
             0,
             "#0d0887"
            ],
            [
             0.1111111111111111,
             "#46039f"
            ],
            [
             0.2222222222222222,
             "#7201a8"
            ],
            [
             0.3333333333333333,
             "#9c179e"
            ],
            [
             0.4444444444444444,
             "#bd3786"
            ],
            [
             0.5555555555555556,
             "#d8576b"
            ],
            [
             0.6666666666666666,
             "#ed7953"
            ],
            [
             0.7777777777777778,
             "#fb9f3a"
            ],
            [
             0.8888888888888888,
             "#fdca26"
            ],
            [
             1,
             "#f0f921"
            ]
           ],
           "sequentialminus": [
            [
             0,
             "#0d0887"
            ],
            [
             0.1111111111111111,
             "#46039f"
            ],
            [
             0.2222222222222222,
             "#7201a8"
            ],
            [
             0.3333333333333333,
             "#9c179e"
            ],
            [
             0.4444444444444444,
             "#bd3786"
            ],
            [
             0.5555555555555556,
             "#d8576b"
            ],
            [
             0.6666666666666666,
             "#ed7953"
            ],
            [
             0.7777777777777778,
             "#fb9f3a"
            ],
            [
             0.8888888888888888,
             "#fdca26"
            ],
            [
             1,
             "#f0f921"
            ]
           ]
          },
          "colorway": [
           "#636efa",
           "#EF553B",
           "#00cc96",
           "#ab63fa",
           "#FFA15A",
           "#19d3f3",
           "#FF6692",
           "#B6E880",
           "#FF97FF",
           "#FECB52"
          ],
          "font": {
           "color": "#2a3f5f"
          },
          "geo": {
           "bgcolor": "white",
           "lakecolor": "white",
           "landcolor": "#E5ECF6",
           "showlakes": true,
           "showland": true,
           "subunitcolor": "white"
          },
          "hoverlabel": {
           "align": "left"
          },
          "hovermode": "closest",
          "mapbox": {
           "style": "light"
          },
          "paper_bgcolor": "white",
          "plot_bgcolor": "#E5ECF6",
          "polar": {
           "angularaxis": {
            "gridcolor": "white",
            "linecolor": "white",
            "ticks": ""
           },
           "bgcolor": "#E5ECF6",
           "radialaxis": {
            "gridcolor": "white",
            "linecolor": "white",
            "ticks": ""
           }
          },
          "scene": {
           "xaxis": {
            "backgroundcolor": "#E5ECF6",
            "gridcolor": "white",
            "gridwidth": 2,
            "linecolor": "white",
            "showbackground": true,
            "ticks": "",
            "zerolinecolor": "white"
           },
           "yaxis": {
            "backgroundcolor": "#E5ECF6",
            "gridcolor": "white",
            "gridwidth": 2,
            "linecolor": "white",
            "showbackground": true,
            "ticks": "",
            "zerolinecolor": "white"
           },
           "zaxis": {
            "backgroundcolor": "#E5ECF6",
            "gridcolor": "white",
            "gridwidth": 2,
            "linecolor": "white",
            "showbackground": true,
            "ticks": "",
            "zerolinecolor": "white"
           }
          },
          "shapedefaults": {
           "line": {
            "color": "#2a3f5f"
           }
          },
          "ternary": {
           "aaxis": {
            "gridcolor": "white",
            "linecolor": "white",
            "ticks": ""
           },
           "baxis": {
            "gridcolor": "white",
            "linecolor": "white",
            "ticks": ""
           },
           "bgcolor": "#E5ECF6",
           "caxis": {
            "gridcolor": "white",
            "linecolor": "white",
            "ticks": ""
           }
          },
          "title": {
           "x": 0.05
          },
          "xaxis": {
           "automargin": true,
           "gridcolor": "white",
           "linecolor": "white",
           "ticks": "",
           "title": {
            "standoff": 15
           },
           "zerolinecolor": "white",
           "zerolinewidth": 2
          },
          "yaxis": {
           "automargin": true,
           "gridcolor": "white",
           "linecolor": "white",
           "ticks": "",
           "title": {
            "standoff": 15
           },
           "zerolinecolor": "white",
           "zerolinewidth": 2
          }
         }
        },
        "title": {
         "text": "📊 Mudanças Populacionais ENCCEJA 2019 vs 2023 (Análise Corrigida)"
        },
        "xaxis": {
         "anchor": "y",
         "domain": [
          0,
          0.45
         ]
        },
        "xaxis2": {
         "anchor": "y2",
         "domain": [
          0.55,
          1
         ]
        },
        "yaxis": {
         "anchor": "x",
         "domain": [
          0,
          1
         ],
         "title": {
          "text": "Número de Candidatos"
         }
        },
        "yaxis2": {
         "anchor": "x2",
         "domain": [
          0,
          1
         ],
         "title": {
          "text": "Número de Candidatos"
         }
        }
       }
      }
     },
     "metadata": {},
     "output_type": "display_data"
    },
    {
     "data": {
      "application/vnd.plotly.v1+json": {
       "config": {
        "plotlyServerURL": "https://plot.ly"
       },
       "data": [
        {
         "marker": {
          "color": "#1f77b4"
         },
         "name": "2019",
         "showlegend": true,
         "type": "bar",
         "x": [
          "Ciências Humanas",
          "Ciências da Natureza",
          "Linguagens e Códigos",
          "Matemática"
         ],
         "xaxis": "x",
         "y": [
          82.64713006829284,
          91.76733237275073,
          76.98406385333146,
          55.83037346115384
         ],
         "yaxis": "y"
        },
        {
         "marker": {
          "color": "#aec7e8"
         },
         "name": "2023",
         "showlegend": true,
         "type": "bar",
         "x": [
          "Ciências Humanas",
          "Ciências da Natureza",
          "Linguagens e Códigos",
          "Matemática"
         ],
         "xaxis": "x",
         "y": [
          26.918968253145124,
          28.84147142090387,
          23.498716034243483,
          18.607227567008387
         ],
         "yaxis": "y"
        },
        {
         "marker": {
          "color": [
           "red",
           "red",
           "red",
           "red"
          ]
         },
         "name": "Mudança regular",
         "showlegend": false,
         "type": "bar",
         "x": [
          "Ciências Humanas",
          "Ciências da Natureza",
          "Linguagens e Códigos",
          "Matemática"
         ],
         "xaxis": "x3",
         "y": [
          -55.728161815147715,
          -62.92586095184686,
          -53.48534781908798,
          -37.22314589414545
         ],
         "yaxis": "y3"
        },
        {
         "marker": {
          "color": "#ff7f0e"
         },
         "name": "2019",
         "showlegend": false,
         "type": "bar",
         "x": [
          "Ciências Humanas",
          "Ciências da Natureza",
          "Linguagens e Códigos",
          "Matemática"
         ],
         "xaxis": "x2",
         "y": [
          53.74932106457075,
          71.46132170092179,
          53.97481617066936,
          46.57021036461109
         ],
         "yaxis": "y2"
        },
        {
         "marker": {
          "color": "#ffbb78"
         },
         "name": "2023",
         "showlegend": false,
         "type": "bar",
         "x": [
          "Ciências Humanas",
          "Ciências da Natureza",
          "Linguagens e Códigos",
          "Matemática"
         ],
         "xaxis": "x2",
         "y": [
          46.72128734007626,
          53.56628573179325,
          38.57119426081624,
          42.00768437557386
         ],
         "yaxis": "y2"
        },
        {
         "marker": {
          "color": [
           "red",
           "red",
           "red",
           "red"
          ]
         },
         "name": "Mudança ppl",
         "showlegend": false,
         "type": "bar",
         "x": [
          "Ciências Humanas",
          "Ciências da Natureza",
          "Linguagens e Códigos",
          "Matemática"
         ],
         "xaxis": "x4",
         "y": [
          -7.028033724494492,
          -17.895035969128536,
          -15.403621909853115,
          -4.562525989037233
         ],
         "yaxis": "y4"
        }
       ],
       "layout": {
        "annotations": [
         {
          "font": {
           "size": 16
          },
          "showarrow": false,
          "text": "Aprovação por Área - Regulares",
          "x": 0.225,
          "xanchor": "center",
          "xref": "paper",
          "y": 1,
          "yanchor": "bottom",
          "yref": "paper"
         },
         {
          "font": {
           "size": 16
          },
          "showarrow": false,
          "text": "Aprovação por Área - PPL",
          "x": 0.775,
          "xanchor": "center",
          "xref": "paper",
          "y": 1,
          "yanchor": "bottom",
          "yref": "paper"
         },
         {
          "font": {
           "size": 16
          },
          "showarrow": false,
          "text": "Mudança na Aprovação - Regulares",
          "x": 0.225,
          "xanchor": "center",
          "xref": "paper",
          "y": 0.375,
          "yanchor": "bottom",
          "yref": "paper"
         },
         {
          "font": {
           "size": 16
          },
          "showarrow": false,
          "text": "Mudança na Aprovação - PPL",
          "x": 0.775,
          "xanchor": "center",
          "xref": "paper",
          "y": 0.375,
          "yanchor": "bottom",
          "yref": "paper"
         }
        ],
        "height": 800,
        "template": {
         "data": {
          "bar": [
           {
            "error_x": {
             "color": "#2a3f5f"
            },
            "error_y": {
             "color": "#2a3f5f"
            },
            "marker": {
             "line": {
              "color": "#E5ECF6",
              "width": 0.5
             },
             "pattern": {
              "fillmode": "overlay",
              "size": 10,
              "solidity": 0.2
             }
            },
            "type": "bar"
           }
          ],
          "barpolar": [
           {
            "marker": {
             "line": {
              "color": "#E5ECF6",
              "width": 0.5
             },
             "pattern": {
              "fillmode": "overlay",
              "size": 10,
              "solidity": 0.2
             }
            },
            "type": "barpolar"
           }
          ],
          "carpet": [
           {
            "aaxis": {
             "endlinecolor": "#2a3f5f",
             "gridcolor": "white",
             "linecolor": "white",
             "minorgridcolor": "white",
             "startlinecolor": "#2a3f5f"
            },
            "baxis": {
             "endlinecolor": "#2a3f5f",
             "gridcolor": "white",
             "linecolor": "white",
             "minorgridcolor": "white",
             "startlinecolor": "#2a3f5f"
            },
            "type": "carpet"
           }
          ],
          "choropleth": [
           {
            "colorbar": {
             "outlinewidth": 0,
             "ticks": ""
            },
            "type": "choropleth"
           }
          ],
          "contour": [
           {
            "colorbar": {
             "outlinewidth": 0,
             "ticks": ""
            },
            "colorscale": [
             [
              0,
              "#0d0887"
             ],
             [
              0.1111111111111111,
              "#46039f"
             ],
             [
              0.2222222222222222,
              "#7201a8"
             ],
             [
              0.3333333333333333,
              "#9c179e"
             ],
             [
              0.4444444444444444,
              "#bd3786"
             ],
             [
              0.5555555555555556,
              "#d8576b"
             ],
             [
              0.6666666666666666,
              "#ed7953"
             ],
             [
              0.7777777777777778,
              "#fb9f3a"
             ],
             [
              0.8888888888888888,
              "#fdca26"
             ],
             [
              1,
              "#f0f921"
             ]
            ],
            "type": "contour"
           }
          ],
          "contourcarpet": [
           {
            "colorbar": {
             "outlinewidth": 0,
             "ticks": ""
            },
            "type": "contourcarpet"
           }
          ],
          "heatmap": [
           {
            "colorbar": {
             "outlinewidth": 0,
             "ticks": ""
            },
            "colorscale": [
             [
              0,
              "#0d0887"
             ],
             [
              0.1111111111111111,
              "#46039f"
             ],
             [
              0.2222222222222222,
              "#7201a8"
             ],
             [
              0.3333333333333333,
              "#9c179e"
             ],
             [
              0.4444444444444444,
              "#bd3786"
             ],
             [
              0.5555555555555556,
              "#d8576b"
             ],
             [
              0.6666666666666666,
              "#ed7953"
             ],
             [
              0.7777777777777778,
              "#fb9f3a"
             ],
             [
              0.8888888888888888,
              "#fdca26"
             ],
             [
              1,
              "#f0f921"
             ]
            ],
            "type": "heatmap"
           }
          ],
          "histogram": [
           {
            "marker": {
             "pattern": {
              "fillmode": "overlay",
              "size": 10,
              "solidity": 0.2
             }
            },
            "type": "histogram"
           }
          ],
          "histogram2d": [
           {
            "colorbar": {
             "outlinewidth": 0,
             "ticks": ""
            },
            "colorscale": [
             [
              0,
              "#0d0887"
             ],
             [
              0.1111111111111111,
              "#46039f"
             ],
             [
              0.2222222222222222,
              "#7201a8"
             ],
             [
              0.3333333333333333,
              "#9c179e"
             ],
             [
              0.4444444444444444,
              "#bd3786"
             ],
             [
              0.5555555555555556,
              "#d8576b"
             ],
             [
              0.6666666666666666,
              "#ed7953"
             ],
             [
              0.7777777777777778,
              "#fb9f3a"
             ],
             [
              0.8888888888888888,
              "#fdca26"
             ],
             [
              1,
              "#f0f921"
             ]
            ],
            "type": "histogram2d"
           }
          ],
          "histogram2dcontour": [
           {
            "colorbar": {
             "outlinewidth": 0,
             "ticks": ""
            },
            "colorscale": [
             [
              0,
              "#0d0887"
             ],
             [
              0.1111111111111111,
              "#46039f"
             ],
             [
              0.2222222222222222,
              "#7201a8"
             ],
             [
              0.3333333333333333,
              "#9c179e"
             ],
             [
              0.4444444444444444,
              "#bd3786"
             ],
             [
              0.5555555555555556,
              "#d8576b"
             ],
             [
              0.6666666666666666,
              "#ed7953"
             ],
             [
              0.7777777777777778,
              "#fb9f3a"
             ],
             [
              0.8888888888888888,
              "#fdca26"
             ],
             [
              1,
              "#f0f921"
             ]
            ],
            "type": "histogram2dcontour"
           }
          ],
          "mesh3d": [
           {
            "colorbar": {
             "outlinewidth": 0,
             "ticks": ""
            },
            "type": "mesh3d"
           }
          ],
          "parcoords": [
           {
            "line": {
             "colorbar": {
              "outlinewidth": 0,
              "ticks": ""
             }
            },
            "type": "parcoords"
           }
          ],
          "pie": [
           {
            "automargin": true,
            "type": "pie"
           }
          ],
          "scatter": [
           {
            "fillpattern": {
             "fillmode": "overlay",
             "size": 10,
             "solidity": 0.2
            },
            "type": "scatter"
           }
          ],
          "scatter3d": [
           {
            "line": {
             "colorbar": {
              "outlinewidth": 0,
              "ticks": ""
             }
            },
            "marker": {
             "colorbar": {
              "outlinewidth": 0,
              "ticks": ""
             }
            },
            "type": "scatter3d"
           }
          ],
          "scattercarpet": [
           {
            "marker": {
             "colorbar": {
              "outlinewidth": 0,
              "ticks": ""
             }
            },
            "type": "scattercarpet"
           }
          ],
          "scattergeo": [
           {
            "marker": {
             "colorbar": {
              "outlinewidth": 0,
              "ticks": ""
             }
            },
            "type": "scattergeo"
           }
          ],
          "scattergl": [
           {
            "marker": {
             "colorbar": {
              "outlinewidth": 0,
              "ticks": ""
             }
            },
            "type": "scattergl"
           }
          ],
          "scattermap": [
           {
            "marker": {
             "colorbar": {
              "outlinewidth": 0,
              "ticks": ""
             }
            },
            "type": "scattermap"
           }
          ],
          "scattermapbox": [
           {
            "marker": {
             "colorbar": {
              "outlinewidth": 0,
              "ticks": ""
             }
            },
            "type": "scattermapbox"
           }
          ],
          "scatterpolar": [
           {
            "marker": {
             "colorbar": {
              "outlinewidth": 0,
              "ticks": ""
             }
            },
            "type": "scatterpolar"
           }
          ],
          "scatterpolargl": [
           {
            "marker": {
             "colorbar": {
              "outlinewidth": 0,
              "ticks": ""
             }
            },
            "type": "scatterpolargl"
           }
          ],
          "scatterternary": [
           {
            "marker": {
             "colorbar": {
              "outlinewidth": 0,
              "ticks": ""
             }
            },
            "type": "scatterternary"
           }
          ],
          "surface": [
           {
            "colorbar": {
             "outlinewidth": 0,
             "ticks": ""
            },
            "colorscale": [
             [
              0,
              "#0d0887"
             ],
             [
              0.1111111111111111,
              "#46039f"
             ],
             [
              0.2222222222222222,
              "#7201a8"
             ],
             [
              0.3333333333333333,
              "#9c179e"
             ],
             [
              0.4444444444444444,
              "#bd3786"
             ],
             [
              0.5555555555555556,
              "#d8576b"
             ],
             [
              0.6666666666666666,
              "#ed7953"
             ],
             [
              0.7777777777777778,
              "#fb9f3a"
             ],
             [
              0.8888888888888888,
              "#fdca26"
             ],
             [
              1,
              "#f0f921"
             ]
            ],
            "type": "surface"
           }
          ],
          "table": [
           {
            "cells": {
             "fill": {
              "color": "#EBF0F8"
             },
             "line": {
              "color": "white"
             }
            },
            "header": {
             "fill": {
              "color": "#C8D4E3"
             },
             "line": {
              "color": "white"
             }
            },
            "type": "table"
           }
          ]
         },
         "layout": {
          "annotationdefaults": {
           "arrowcolor": "#2a3f5f",
           "arrowhead": 0,
           "arrowwidth": 1
          },
          "autotypenumbers": "strict",
          "coloraxis": {
           "colorbar": {
            "outlinewidth": 0,
            "ticks": ""
           }
          },
          "colorscale": {
           "diverging": [
            [
             0,
             "#8e0152"
            ],
            [
             0.1,
             "#c51b7d"
            ],
            [
             0.2,
             "#de77ae"
            ],
            [
             0.3,
             "#f1b6da"
            ],
            [
             0.4,
             "#fde0ef"
            ],
            [
             0.5,
             "#f7f7f7"
            ],
            [
             0.6,
             "#e6f5d0"
            ],
            [
             0.7,
             "#b8e186"
            ],
            [
             0.8,
             "#7fbc41"
            ],
            [
             0.9,
             "#4d9221"
            ],
            [
             1,
             "#276419"
            ]
           ],
           "sequential": [
            [
             0,
             "#0d0887"
            ],
            [
             0.1111111111111111,
             "#46039f"
            ],
            [
             0.2222222222222222,
             "#7201a8"
            ],
            [
             0.3333333333333333,
             "#9c179e"
            ],
            [
             0.4444444444444444,
             "#bd3786"
            ],
            [
             0.5555555555555556,
             "#d8576b"
            ],
            [
             0.6666666666666666,
             "#ed7953"
            ],
            [
             0.7777777777777778,
             "#fb9f3a"
            ],
            [
             0.8888888888888888,
             "#fdca26"
            ],
            [
             1,
             "#f0f921"
            ]
           ],
           "sequentialminus": [
            [
             0,
             "#0d0887"
            ],
            [
             0.1111111111111111,
             "#46039f"
            ],
            [
             0.2222222222222222,
             "#7201a8"
            ],
            [
             0.3333333333333333,
             "#9c179e"
            ],
            [
             0.4444444444444444,
             "#bd3786"
            ],
            [
             0.5555555555555556,
             "#d8576b"
            ],
            [
             0.6666666666666666,
             "#ed7953"
            ],
            [
             0.7777777777777778,
             "#fb9f3a"
            ],
            [
             0.8888888888888888,
             "#fdca26"
            ],
            [
             1,
             "#f0f921"
            ]
           ]
          },
          "colorway": [
           "#636efa",
           "#EF553B",
           "#00cc96",
           "#ab63fa",
           "#FFA15A",
           "#19d3f3",
           "#FF6692",
           "#B6E880",
           "#FF97FF",
           "#FECB52"
          ],
          "font": {
           "color": "#2a3f5f"
          },
          "geo": {
           "bgcolor": "white",
           "lakecolor": "white",
           "landcolor": "#E5ECF6",
           "showlakes": true,
           "showland": true,
           "subunitcolor": "white"
          },
          "hoverlabel": {
           "align": "left"
          },
          "hovermode": "closest",
          "mapbox": {
           "style": "light"
          },
          "paper_bgcolor": "white",
          "plot_bgcolor": "#E5ECF6",
          "polar": {
           "angularaxis": {
            "gridcolor": "white",
            "linecolor": "white",
            "ticks": ""
           },
           "bgcolor": "#E5ECF6",
           "radialaxis": {
            "gridcolor": "white",
            "linecolor": "white",
            "ticks": ""
           }
          },
          "scene": {
           "xaxis": {
            "backgroundcolor": "#E5ECF6",
            "gridcolor": "white",
            "gridwidth": 2,
            "linecolor": "white",
            "showbackground": true,
            "ticks": "",
            "zerolinecolor": "white"
           },
           "yaxis": {
            "backgroundcolor": "#E5ECF6",
            "gridcolor": "white",
            "gridwidth": 2,
            "linecolor": "white",
            "showbackground": true,
            "ticks": "",
            "zerolinecolor": "white"
           },
           "zaxis": {
            "backgroundcolor": "#E5ECF6",
            "gridcolor": "white",
            "gridwidth": 2,
            "linecolor": "white",
            "showbackground": true,
            "ticks": "",
            "zerolinecolor": "white"
           }
          },
          "shapedefaults": {
           "line": {
            "color": "#2a3f5f"
           }
          },
          "ternary": {
           "aaxis": {
            "gridcolor": "white",
            "linecolor": "white",
            "ticks": ""
           },
           "baxis": {
            "gridcolor": "white",
            "linecolor": "white",
            "ticks": ""
           },
           "bgcolor": "#E5ECF6",
           "caxis": {
            "gridcolor": "white",
            "linecolor": "white",
            "ticks": ""
           }
          },
          "title": {
           "x": 0.05
          },
          "xaxis": {
           "automargin": true,
           "gridcolor": "white",
           "linecolor": "white",
           "ticks": "",
           "title": {
            "standoff": 15
           },
           "zerolinecolor": "white",
           "zerolinewidth": 2
          },
          "yaxis": {
           "automargin": true,
           "gridcolor": "white",
           "linecolor": "white",
           "ticks": "",
           "title": {
            "standoff": 15
           },
           "zerolinecolor": "white",
           "zerolinewidth": 2
          }
         }
        },
        "title": {
         "text": "📈 Análise de Desempenho por População (Critérios Oficiais INEP)"
        },
        "xaxis": {
         "anchor": "y",
         "domain": [
          0,
          0.45
         ]
        },
        "xaxis2": {
         "anchor": "y2",
         "domain": [
          0.55,
          1
         ]
        },
        "xaxis3": {
         "anchor": "y3",
         "domain": [
          0,
          0.45
         ]
        },
        "xaxis4": {
         "anchor": "y4",
         "domain": [
          0.55,
          1
         ]
        },
        "yaxis": {
         "anchor": "x",
         "domain": [
          0.625,
          1
         ],
         "title": {
          "text": "Taxa de Aprovação (%)"
         }
        },
        "yaxis2": {
         "anchor": "x2",
         "domain": [
          0.625,
          1
         ],
         "title": {
          "text": "Taxa de Aprovação (%)"
         }
        },
        "yaxis3": {
         "anchor": "x3",
         "domain": [
          0,
          0.375
         ],
         "title": {
          "text": "Mudança (pp)"
         }
        },
        "yaxis4": {
         "anchor": "x4",
         "domain": [
          0,
          0.375
         ],
         "title": {
          "text": "Mudança (pp)"
         }
        }
       }
      }
     },
     "metadata": {},
     "output_type": "display_data"
    }
   ],
   "source": [
    "class CorrectedVisualizationCreator:\n",
    "    \"\"\"Criador de visualizações metodologicamente corretas\"\"\"\n",
    "    \n",
    "    def __init__(self, results):\n",
    "        self.results = results\n",
    "    \n",
    "    def create_population_comparison(self):\n",
    "        \"\"\"Cria gráfico de comparação populacional corrigido\"\"\"\n",
    "        if 'population_changes' not in self.results:\n",
    "            print(\"❌ Dados de mudança populacional não disponíveis\")\n",
    "            return None\n",
    "        \n",
    "        fig = make_subplots(\n",
    "            rows=1, cols=2,\n",
    "            subplot_titles=('Candidatos Regulares', 'Pessoas Privadas de Liberdade (PPL)'),\n",
    "            specs=[[{\"secondary_y\": False}, {\"secondary_y\": False}]]\n",
    "        )\n",
    "        \n",
    "        pop_data = self.results['population_changes']\n",
    "        \n",
    "        # Regular\n",
    "        if 'regular' in pop_data:\n",
    "            reg_data = pop_data['regular']\n",
    "            fig.add_trace(\n",
    "                go.Bar(\n",
    "                    x=['2019', '2023'],\n",
    "                    y=[reg_data['2019'], reg_data['2023']],\n",
    "                    name='Regular',\n",
    "                    marker_color='lightblue',\n",
    "                    text=[f\"{reg_data['2019']:,}\", f\"{reg_data['2023']:,}\"],\n",
    "                    textposition='auto'\n",
    "                ),\n",
    "                row=1, col=1\n",
    "            )\n",
    "        \n",
    "        # PPL\n",
    "        if 'ppl' in pop_data:\n",
    "            ppl_data = pop_data['ppl']\n",
    "            fig.add_trace(\n",
    "                go.Bar(\n",
    "                    x=['2019', '2023'],\n",
    "                    y=[ppl_data['2019'], ppl_data['2023']],\n",
    "                    name='PPL',\n",
    "                    marker_color='lightcoral',\n",
    "                    text=[f\"{ppl_data['2019']:,}\", f\"{ppl_data['2023']:,}\"],\n",
    "                    textposition='auto'\n",
    "                ),\n",
    "                row=1, col=2\n",
    "            )\n",
    "        \n",
    "        fig.update_layout(\n",
    "            title='📊 Mudanças Populacionais ENCCEJA 2019 vs 2023 (Análise Corrigida)',\n",
    "            showlegend=False,\n",
    "            height=500\n",
    "        )\n",
    "        \n",
    "        fig.update_yaxes(title_text=\"Número de Candidatos\", row=1, col=1)\n",
    "        fig.update_yaxes(title_text=\"Número de Candidatos\", row=1, col=2)\n",
    "        \n",
    "        return fig\n",
    "    \n",
    "    def create_performance_comparison(self):\n",
    "        \"\"\"Cria gráfico de comparação de desempenho por população\"\"\"\n",
    "        if 'performance' not in self.results:\n",
    "            print(\"❌ Dados de desempenho não disponíveis\")\n",
    "            return None\n",
    "        \n",
    "        fig = make_subplots(\n",
    "            rows=2, cols=2,\n",
    "            subplot_titles=(\n",
    "                'Aprovação por Área - Regulares',\n",
    "                'Aprovação por Área - PPL',\n",
    "                'Mudança na Aprovação - Regulares',\n",
    "                'Mudança na Aprovação - PPL'\n",
    "            ),\n",
    "            specs=[[{\"type\": \"bar\"}, {\"type\": \"bar\"}],\n",
    "                   [{\"type\": \"bar\"}, {\"type\": \"bar\"}]]\n",
    "        )\n",
    "        \n",
    "        perf_data = self.results['performance']\n",
    "        colors_2019 = ['#1f77b4', '#ff7f0e', '#2ca02c', '#d62728']\n",
    "        colors_2023 = ['#aec7e8', '#ffbb78', '#98df8a', '#ff9896']\n",
    "        \n",
    "        for i, (pop_type, col) in enumerate([('regular', 1), ('ppl', 2)]):\n",
    "            if pop_type in perf_data:\n",
    "                pop_perf = perf_data[pop_type]\n",
    "                \n",
    "                if '2019' in pop_perf and '2023' in pop_perf:\n",
    "                    # Dados de aprovação\n",
    "                    areas_2019 = pop_perf['2019'].get('approval_rates', {})\n",
    "                    areas_2023 = pop_perf['2023'].get('approval_rates', {})\n",
    "                    \n",
    "                    common_areas = set(areas_2019.keys()) & set(areas_2023.keys())\n",
    "                    areas = sorted(list(common_areas))\n",
    "                    \n",
    "                    if areas:\n",
    "                        # Gráfico de aprovação absoluta\n",
    "                        fig.add_trace(\n",
    "                            go.Bar(\n",
    "                                x=areas,\n",
    "                                y=[areas_2019[area] for area in areas],\n",
    "                                name='2019',\n",
    "                                marker_color=colors_2019[i],\n",
    "                                showlegend=(i == 0)\n",
    "                            ),\n",
    "                            row=1, col=col\n",
    "                        )\n",
    "                        \n",
    "                        fig.add_trace(\n",
    "                            go.Bar(\n",
    "                                x=areas,\n",
    "                                y=[areas_2023[area] for area in areas],\n",
    "                                name='2023',\n",
    "                                marker_color=colors_2023[i],\n",
    "                                showlegend=(i == 0)\n",
    "                            ),\n",
    "                            row=1, col=col\n",
    "                        )\n",
    "                        \n",
    "                        # Gráfico de mudança\n",
    "                        changes = [areas_2023[area] - areas_2019[area] for area in areas]\n",
    "                        colors_change = ['green' if x >= 0 else 'red' for x in changes]\n",
    "                        \n",
    "                        fig.add_trace(\n",
    "                            go.Bar(\n",
    "                                x=areas,\n",
    "                                y=changes,\n",
    "                                name=f'Mudança {pop_type}',\n",
    "                                marker_color=colors_change,\n",
    "                                showlegend=False\n",
    "                            ),\n",
    "                            row=2, col=col\n",
    "                        )\n",
    "        \n",
    "        fig.update_layout(\n",
    "            title='📈 Análise de Desempenho por População (Critérios Oficiais INEP)',\n",
    "            height=800\n",
    "        )\n",
    "        \n",
    "        # Atualizar eixos Y\n",
    "        fig.update_yaxes(title_text=\"Taxa de Aprovação (%)\", row=1, col=1)\n",
    "        fig.update_yaxes(title_text=\"Taxa de Aprovação (%)\", row=1, col=2)\n",
    "        fig.update_yaxes(title_text=\"Mudança (pp)\", row=2, col=1)\n",
    "        fig.update_yaxes(title_text=\"Mudança (pp)\", row=2, col=2)\n",
    "        \n",
    "        return fig\n",
    "\n",
    "# Criar visualizações\n",
    "viz_creator = CorrectedVisualizationCreator(results)\n",
    "\n",
    "# Gráfico de população\n",
    "pop_fig = viz_creator.create_population_comparison()\n",
    "if pop_fig:\n",
    "    pop_fig.show()\n",
    "\n",
    "# Gráfico de desempenho\n",
    "perf_fig = viz_creator.create_performance_comparison()\n",
    "if perf_fig:\n",
    "    perf_fig.show()"
   ]
  },
  {
   "cell_type": "markdown",
   "id": "c3e4ceeb",
   "metadata": {},
   "source": [
    "## 📋 7. Síntese Final e Limitações Documentadas"
   ]
  },
  {
   "cell_type": "code",
   "execution_count": 14,
   "id": "db368a25",
   "metadata": {},
   "outputs": [
    {
     "name": "stdout",
     "output_type": "stream",
     "text": [
      "📋 SÍNTESE DA ANÁLISE CORRIGIDA\n",
      "================================================================================\n",
      "\n",
      "🔬 CORREÇÕES METODOLÓGICAS APLICADAS:\n",
      "   ✅ Separação de populações Regular vs PPL\n",
      "   ✅ Uso de critérios oficiais INEP (IN_APROVADO_*)\n",
      "   ✅ Análise de dados completos (quando possível)\n",
      "   ✅ Documentação de limitações estruturais\n",
      "\n",
      "📊 ACHADOS PRINCIPAIS:\n",
      "   🎓 POPULAÇÃO REGULAR: -62.9%\n",
      "      • Redução significativa, mas não necessariamente 'colapso'\n",
      "      • Múltiplos fatores possíveis: pandemia, demografia, políticas\n",
      "   🔒 POPULAÇÃO PPL: +136.0%\n",
      "      • Crescimento expressivo do programa prisional\n",
      "      • Expansão do acesso à educação no sistema prisional\n",
      "\n",
      "⚠️  LIMITAÇÕES DOCUMENTADAS:\n",
      "   📚 ESCOPO: Brasil = apenas Ensino Fundamental (desde 2009)\n",
      "   🔐 LGPD: Dados do exterior excluídos, variáveis removidas\n",
      "   📊 ESTRUTURA: Mudanças nas variáveis do questionário (2019→2023)\n",
      "   🔬 CAUSALIDADE: Correlação temporal ≠ causalidade pandêmica\n",
      "\n",
      "🎯 RECOMENDAÇÕES PARA ANÁLISES FUTURAS:\n",
      "   1. Sempre separar populações Regular vs PPL\n",
      "   2. Usar variáveis oficiais INEP para aprovação\n",
      "   3. Considerar fatores confundidores (demografia, políticas)\n",
      "   4. Análise longitudinal com mais pontos temporais\n",
      "   5. Estudos qualitativos para compreender causas\n",
      "\n",
      "✅ ANÁLISE METODOLOGICAMENTE CORRIGIDA CONCLUÍDA\n",
      "   Esta análise substitui e corrige os erros da versão anterior\n"
     ]
    }
   ],
   "source": [
    "def generate_corrected_conclusions():\n",
    "    \"\"\"Gera conclusões metodologicamente corretas\"\"\"\n",
    "    print(\"📋 SÍNTESE DA ANÁLISE CORRIGIDA\")\n",
    "    print(\"=\"*80)\n",
    "    \n",
    "    print(\"\\n🔬 CORREÇÕES METODOLÓGICAS APLICADAS:\")\n",
    "    print(\"   ✅ Separação de populações Regular vs PPL\")\n",
    "    print(\"   ✅ Uso de critérios oficiais INEP (IN_APROVADO_*)\")\n",
    "    print(\"   ✅ Análise de dados completos (quando possível)\")\n",
    "    print(\"   ✅ Documentação de limitações estruturais\")\n",
    "    \n",
    "    if 'population_changes' in results:\n",
    "        pop_data = results['population_changes']\n",
    "        \n",
    "        print(\"\\n📊 ACHADOS PRINCIPAIS:\")\n",
    "        \n",
    "        if 'regular' in pop_data:\n",
    "            reg_change = pop_data['regular']['change_pct']\n",
    "            print(f\"   🎓 POPULAÇÃO REGULAR: {reg_change:+.1f}%\")\n",
    "            if reg_change < -50:\n",
    "                print(f\"      • Redução significativa, mas não necessariamente 'colapso'\")\n",
    "                print(f\"      • Múltiplos fatores possíveis: pandemia, demografia, políticas\")\n",
    "            \n",
    "        if 'ppl' in pop_data:\n",
    "            ppl_change = pop_data['ppl']['change_pct']\n",
    "            print(f\"   🔒 POPULAÇÃO PPL: {ppl_change:+.1f}%\")\n",
    "            if ppl_change > 50:\n",
    "                print(f\"      • Crescimento expressivo do programa prisional\")\n",
    "                print(f\"      • Expansão do acesso à educação no sistema prisional\")\n",
    "    \n",
    "    print(\"\\n⚠️  LIMITAÇÕES DOCUMENTADAS:\")\n",
    "    print(\"   📚 ESCOPO: Brasil = apenas Ensino Fundamental (desde 2009)\")\n",
    "    print(\"   🔐 LGPD: Dados do exterior excluídos, variáveis removidas\")\n",
    "    print(\"   📊 ESTRUTURA: Mudanças nas variáveis do questionário (2019→2023)\")\n",
    "    print(\"   🔬 CAUSALIDADE: Correlação temporal ≠ causalidade pandêmica\")\n",
    "    \n",
    "    if USE_SAMPLES:\n",
    "        print(f\"   📝 AMOSTRA: Análise baseada em {SAMPLE_SIZE:,} registros por arquivo\")\n",
    "        print(f\"      ⚠️  Para resultados definitivos, executar com dados completos\")\n",
    "    \n",
    "    print(\"\\n🎯 RECOMENDAÇÕES PARA ANÁLISES FUTURAS:\")\n",
    "    print(\"   1. Sempre separar populações Regular vs PPL\")\n",
    "    print(\"   2. Usar variáveis oficiais INEP para aprovação\")\n",
    "    print(\"   3. Considerar fatores confundidores (demografia, políticas)\")\n",
    "    print(\"   4. Análise longitudinal com mais pontos temporais\")\n",
    "    print(\"   5. Estudos qualitativos para compreender causas\")\n",
    "    \n",
    "    print(\"\\n✅ ANÁLISE METODOLOGICAMENTE CORRIGIDA CONCLUÍDA\")\n",
    "    print(\"   Esta análise substitui e corrige os erros da versão anterior\")\n",
    "\n",
    "# Gerar conclusões\n",
    "generate_corrected_conclusions()"
   ]
  },
  {
   "cell_type": "markdown",
   "id": "c39dee70",
   "metadata": {},
   "source": [
    "## 📤 8. Exportação do Relatório Corrigido"
   ]
  },
  {
   "cell_type": "code",
   "execution_count": 13,
   "id": "f67931a5",
   "metadata": {},
   "outputs": [
    {
     "name": "stdout",
     "output_type": "stream",
     "text": [
      "✅ Resultados exportados: analise_encceja_corrigida_20250626_125136.json\n",
      "✅ Relatório HTML exportado: relatorio_encceja_corrigido_20250626_125136.html\n",
      "\n",
      "📁 Arquivos gerados:\n",
      "   📊 Dados: analise_encceja_corrigida_20250626_125136.json\n",
      "   📄 Relatório: relatorio_encceja_corrigido_20250626_125136.html\n"
     ]
    }
   ],
   "source": [
    "import json\n",
    "from datetime import datetime\n",
    "\n",
    "def export_corrected_analysis():\n",
    "    \"\"\"Exporta análise corrigida em múltiplos formatos\"\"\"\n",
    "    timestamp = datetime.now().strftime(\"%Y%m%d_%H%M%S\")\n",
    "    \n",
    "    # 1. Resultados em JSON\n",
    "    json_path = f\"analise_encceja_corrigida_{timestamp}.json\"\n",
    "    \n",
    "    export_data = {\n",
    "        'metadata': {\n",
    "            'analysis_date': datetime.now().isoformat(),\n",
    "            'methodology': 'corrected',\n",
    "            'sample_used': USE_SAMPLES,\n",
    "            'sample_size': SAMPLE_SIZE if USE_SAMPLES else None,\n",
    "            'datasets_analyzed': list(loader.metadata.keys())\n",
    "        },\n",
    "        'results': results,\n",
    "        'dataset_summary': loader.get_summary()\n",
    "    }\n",
    "    \n",
    "    try:\n",
    "        with open(json_path, 'w', encoding='utf-8') as f:\n",
    "            json.dump(export_data, f, indent=2, ensure_ascii=False, default=str)\n",
    "        print(f\"✅ Resultados exportados: {json_path}\")\n",
    "    except Exception as e:\n",
    "        print(f\"❌ Erro ao exportar JSON: {e}\")\n",
    "    \n",
    "    # 2. Relatório HTML simples\n",
    "    html_path = f\"relatorio_encceja_corrigido_{timestamp}.html\"\n",
    "    \n",
    "    html_content = f\"\"\"\n",
    "    <!DOCTYPE html>\n",
    "    <html lang=\"pt-BR\">\n",
    "    <head>\n",
    "        <meta charset=\"UTF-8\">\n",
    "        <title>ENCCEJA 2019 vs 2023 - Análise Corrigida</title>\n",
    "        <style>\n",
    "            body {{ font-family: Arial, sans-serif; margin: 40px; line-height: 1.6; }}\n",
    "            .warning {{ background: #fff3cd; border: 1px solid #ffeaa7; padding: 15px; border-radius: 5px; }}\n",
    "            .success {{ background: #d4edda; border: 1px solid #c3e6cb; padding: 15px; border-radius: 5px; }}\n",
    "            .error {{ background: #f8d7da; border: 1px solid #f5c6cb; padding: 15px; border-radius: 5px; }}\n",
    "            table {{ border-collapse: collapse; width: 100%; margin: 20px 0; }}\n",
    "            th, td {{ border: 1px solid #ddd; padding: 12px; text-align: left; }}\n",
    "            th {{ background-color: #f2f2f2; }}\n",
    "            .population {{ font-size: 1.2em; font-weight: bold; }}\n",
    "        </style>\n",
    "    </head>\n",
    "    <body>\n",
    "        <h1>📊 Análise ENCCEJA 2019 vs 2023 - METODOLOGIA CORRIGIDA</h1>\n",
    "        \n",
    "        <div class=\"error\">\n",
    "            <h3>⚠️ IMPORTANTE - Correção de Erros Metodológicos</h3>\n",
    "            <p>Esta análise <strong>substitui completamente</strong> análises anteriores que continham erros fundamentais:</p>\n",
    "            <ul>\n",
    "                <li>❌ Mistura incorreta de populações Regular vs PPL</li>\n",
    "                <li>❌ Uso de critérios de aprovação inadequados</li>\n",
    "                <li>❌ Não separação por tipo de certificação</li>\n",
    "            </ul>\n",
    "        </div>\n",
    "        \n",
    "        <h2>📈 Resultados Corrigidos</h2>\n",
    "    \"\"\"\n",
    "    \n",
    "    # Adicionar resultados populacionais\n",
    "    if 'population_changes' in results:\n",
    "        html_content += \"<h3>👥 Mudanças Populacionais</h3>\\n<table>\\n\"\n",
    "        html_content += \"<tr><th>População</th><th>2019</th><th>2023</th><th>Mudança (%)</th><th>Mudança (abs)</th></tr>\\n\"\n",
    "        \n",
    "        for pop_type, data in results['population_changes'].items():\n",
    "            pop_name = \"Candidatos Regulares\" if pop_type == 'regular' else \"Pessoas Privadas de Liberdade\"\n",
    "            html_content += f\"<tr><td class='population'>{pop_name}</td>\"\n",
    "            html_content += f\"<td>{data['2019']:,}</td>\"\n",
    "            html_content += f\"<td>{data['2023']:,}</td>\"\n",
    "            html_content += f\"<td>{data['change_pct']:+.1f}%</td>\"\n",
    "            html_content += f\"<td>{data['change_abs']:+,}</td></tr>\\n\"\n",
    "        \n",
    "        html_content += \"</table>\\n\"\n",
    "    \n",
    "    # Adicionar limitações\n",
    "    html_content += \"\"\"\n",
    "        <h3>⚠️ Limitações Metodológicas Documentadas</h3>\n",
    "        <div class=\"warning\">\n",
    "            <ul>\n",
    "                <li><strong>Escopo Geográfico:</strong> Brasil = apenas Ensino Fundamental desde 2009</li>\n",
    "                <li><strong>LGPD:</strong> Dados do exterior excluídos, variáveis de residência removidas</li>\n",
    "                <li><strong>Estrutura:</strong> Mudanças no questionário socioeconômico entre 2019-2023</li>\n",
    "                <li><strong>Causalidade:</strong> Correlação temporal ≠ causalidade pandêmica</li>\n",
    "            </ul>\n",
    "        </div>\n",
    "    \"\"\"\n",
    "    \n",
    "    if USE_SAMPLES:\n",
    "        html_content += f\"\"\"\n",
    "        <div class=\"warning\">\n",
    "            <p><strong>Análise baseada em amostras de {SAMPLE_SIZE:,} registros.</strong></p>\n",
    "            <p>Para resultados definitivos, executar com dados completos.</p>\n",
    "        </div>\n",
    "        \"\"\"\n",
    "    \n",
    "    html_content += f\"\"\"\n",
    "        <h3>📅 Informações da Análise</h3>\n",
    "        <p>Data: {datetime.now().strftime('%d/%m/%Y %H:%M:%S')}</p>\n",
    "        <p>Metodologia: Corrigida e Validada</p>\n",
    "        <p>Dados: {'Amostras' if USE_SAMPLES else 'Completos'}</p>\n",
    "        \n",
    "        <div class=\"success\">\n",
    "            <h4>✅ Qualidade Metodológica</h4>\n",
    "            <p>Esta análise segue as melhores práticas de pesquisa educacional:</p>\n",
    "            <ul>\n",
    "                <li>Separação adequada de populações</li>\n",
    "                <li>Uso de critérios oficiais INEP</li>\n",
    "                <li>Documentação completa de limitações</li>\n",
    "                <li>Interpretação cautelosa dos resultados</li>\n",
    "            </ul>\n",
    "        </div>\n",
    "    </body>\n",
    "    </html>\n",
    "    \"\"\"\n",
    "    \n",
    "    try:\n",
    "        with open(html_path, 'w', encoding='utf-8') as f:\n",
    "            f.write(html_content)\n",
    "        print(f\"✅ Relatório HTML exportado: {html_path}\")\n",
    "    except Exception as e:\n",
    "        print(f\"❌ Erro ao exportar HTML: {e}\")\n",
    "    \n",
    "    return json_path, html_path\n",
    "\n",
    "# Exportar análise\n",
    "json_file, html_file = export_corrected_analysis()\n",
    "print(f\"\\n📁 Arquivos gerados:\")\n",
    "print(f\"   📊 Dados: {json_file}\")\n",
    "print(f\"   📄 Relatório: {html_file}\")"
   ]
  }
 ],
 "metadata": {
  "kernelspec": {
   "display_name": "Python 3",
   "language": "python",
   "name": "python3"
  },
  "language_info": {
   "codemirror_mode": {
    "name": "ipython",
    "version": 3
   },
   "file_extension": ".py",
   "mimetype": "text/x-python",
   "name": "python",
   "nbconvert_exporter": "python",
   "pygments_lexer": "ipython3",
   "version": "3.10.10"
  }
 },
 "nbformat": 4,
 "nbformat_minor": 5
}
